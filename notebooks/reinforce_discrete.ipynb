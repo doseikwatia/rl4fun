{
 "cells": [
  {
   "cell_type": "markdown",
   "metadata": {},
   "source": [
    "# Discrete Action Space"
   ]
  },
  {
   "cell_type": "code",
   "execution_count": 1,
   "metadata": {},
   "outputs": [],
   "source": [
    "import torch.nn as nn\n",
    "import torch\n",
    "from torch.optim import AdamW\n",
    "import torch.nn.functional as F\n",
    "from torch.utils.data import Dataset, IterableDataset,DataLoader\n",
    "import lightning as L\n",
    "import gymnasium as gym\n",
    "from gymnasium.wrappers import NormalizeObservation, NormalizeReward, RecordVideo, RecordEpisodeStatistics\n",
    "import numpy as np\n",
    "from lightning.pytorch.loggers import TensorBoardLogger"
   ]
  },
  {
   "cell_type": "code",
   "execution_count": 2,
   "metadata": {},
   "outputs": [],
   "source": [
    "ENV_ID='CartPole-v1'\n",
    "VIDEO_DIR ='../videos/'\n",
    "LOG_DIR = '../tboard/'"
   ]
  },
  {
   "cell_type": "code",
   "execution_count": 3,
   "metadata": {},
   "outputs": [],
   "source": [
    "NUM_ENVS=25\n",
    "DISCOUNT_FACTOR = 0.99\n",
    "MAX_STEP = 5000\n",
    "MAX_EPOCHS = 100\n",
    "BATCH_SIZE = 1024\n",
    "LR = 0.0001"
   ]
  },
  {
   "cell_type": "code",
   "execution_count": 4,
   "metadata": {},
   "outputs": [],
   "source": [
    "def create_env(env_name, num_envs):\n",
    "  env = gym.vector.make(env_name, num_envs=num_envs, asynchronous=False)\n",
    "  env = RecordEpisodeStatistics(env)\n",
    "  env = NormalizeObservation(env)\n",
    "  env = NormalizeReward(env)\n",
    "  return env"
   ]
  },
  {
   "cell_type": "markdown",
   "metadata": {},
   "source": [
    "## Policy Model"
   ]
  },
  {
   "cell_type": "code",
   "execution_count": 5,
   "metadata": {},
   "outputs": [],
   "source": [
    "from typing import Any\n",
    "\n",
    "class Policy(nn.Module):\n",
    "    def __init__(self, num_features, num_actions,hidden_size=128) -> None:\n",
    "        super().__init__()\n",
    "        self.input = nn.Linear(in_features=num_features, out_features=hidden_size)\n",
    "        self.hidden = nn.Linear(in_features=hidden_size, out_features=hidden_size)\n",
    "        self.output = nn.Linear(in_features=hidden_size, out_features=num_actions)\n",
    "        self.actions = np.arange(num_actions)\n",
    "\n",
    "    def forward(self,x):\n",
    "        x = x if torch.is_tensor(x) else torch.FloatTensor(x)\n",
    "        x = self.input(x)\n",
    "        x = F.relu(x)\n",
    "        x = self.hidden(x)\n",
    "        x = F.relu(x)\n",
    "        x = self.output(x)\n",
    "        x = F.softmax(x, dim=-1)\n",
    "        return x\n",
    "\n",
    "    @torch.no_grad()\n",
    "    def pi(self,state):\n",
    "        p = state if torch.is_tensor(state) else torch.FloatTensor(state)\n",
    "        p = self.forward(p)\n",
    "        actions = torch.multinomial(p,1)\n",
    "        actions = actions.squeeze().numpy()\n",
    "        return actions\n",
    "\n",
    "\n",
    "    # def __call__(self, state) -> Any:\n",
    "    #     size = state.shape[0]\n",
    "    #     action = np.random.choice(self.actions, size=size)\n",
    "    #     return action"
   ]
  },
  {
   "cell_type": "markdown",
   "metadata": {},
   "source": [
    "## Dataset"
   ]
  },
  {
   "cell_type": "code",
   "execution_count": 6,
   "metadata": {},
   "outputs": [],
   "source": [
    "class MyDataset(IterableDataset):\n",
    "    def __init__(self,env,max_step,policy,discount_factor):\n",
    "        super().__init__()\n",
    "        self.env = env\n",
    "        self.max_step = max_step\n",
    "        self.policy = policy\n",
    "        self.discount_factor = discount_factor\n",
    "\n",
    "    def __iter__(self):\n",
    "        rewards = []\n",
    "        states = []\n",
    "        actions = []\n",
    "        returns = []\n",
    "        dones = []\n",
    "        state,_ = self.env.reset()\n",
    "        for step in range(self.max_step):\n",
    "            action = self.policy(state)\n",
    "            # obs, rews, terminateds, truncateds, infos\n",
    "            next_state,reward,done, truncated ,infos = self.env.step(action)\n",
    "\n",
    "            states.append(state)\n",
    "            actions.append(action)\n",
    "            rewards.append(reward)\n",
    "            dones.append(done)\n",
    "            state = next_state\n",
    "\n",
    "        next_return =  np.zeros(self.env.unwrapped.num_envs)\n",
    "        for t in range(self.max_step-1,-1,-1):\n",
    "            reward = rewards[t]\n",
    "            return_ = reward + (1 - dones[t])*self.discount_factor*next_return\n",
    "            returns.insert(0,return_)\n",
    "            next_return = return_\n",
    "        \n",
    "        states =  np.concatenate(states, axis=0).astype(np.float32) \n",
    "        returns = np.concatenate(returns, axis=0).astype(np.float32) \n",
    "        actions = np.concatenate(actions, axis=0).astype(np.int64) \n",
    "\n",
    "        indices = np.arange(returns.shape[0])\n",
    "        np.random.shuffle(indices)\n",
    "        \n",
    "        for i in indices:\n",
    "            yield states[i],actions[i],returns[i]\n",
    "            "
   ]
  },
  {
   "cell_type": "markdown",
   "metadata": {},
   "source": [
    "## Utility Functions"
   ]
  },
  {
   "cell_type": "code",
   "execution_count": 7,
   "metadata": {},
   "outputs": [],
   "source": [
    "from base64 import b64encode\n",
    "from IPython.display import HTML\n",
    "\n",
    "def test_env(env_name, policy, obs_rms):\n",
    "  env = gym.make(env_name,render_mode='rgb_array')\n",
    "  env = RecordVideo(env, VIDEO_DIR, episode_trigger=lambda e: True)\n",
    "  env = NormalizeObservation(env)\n",
    "  env.obs_rms = obs_rms\n",
    "\n",
    "  for episode in range(10):\n",
    "    done = False\n",
    "    obs,_ = env.reset()\n",
    "    while not done:\n",
    "      action = policy(obs)\n",
    "      obs, _, done, _ ,_= env.step(action)\n",
    "  env.close()\n",
    "  del env\n",
    "\n",
    "\n",
    "def display_video(episode=0):\n",
    "  video_file = open(f'{VIDEO_DIR}/rl-video-episode-{episode}.mp4', \"r+b\").read()\n",
    "  video_url = f\"data:video/mp4;base64,{b64encode(video_file).decode()}\"\n",
    "  return HTML(f\"<video width=600 controls><source src='{video_url}'></video>\")"
   ]
  },
  {
   "cell_type": "markdown",
   "metadata": {},
   "source": [
    "## Training Model"
   ]
  },
  {
   "cell_type": "code",
   "execution_count": 8,
   "metadata": {},
   "outputs": [],
   "source": [
    "class Reinforce(L.LightningModule):\n",
    "    def __init__(self,env_id, num_envs,lr = 1e-3, entropy_coeff=0.01, hidden_size=64, discount_factor=0.99, max_step=100, batch_size=64):\n",
    "        super().__init__()\n",
    "        self.env = create_env(env_name=env_id,num_envs=num_envs)\n",
    "        num_features = self.env.unwrapped.single_observation_space.shape[0]\n",
    "        num_actions = self.env.unwrapped.single_action_space.n\n",
    "        self.model=Policy(num_features, num_actions,hidden_size=hidden_size)\n",
    "        self.lr = lr\n",
    "        self.save_hyperparameters()\n",
    "\n",
    "    def training_step(self, batch, batch_idx):\n",
    "        state,action,returns = batch\n",
    "        \n",
    "        action = action.reshape(-1,1)\n",
    "        returns = returns.reshape(-1,1)\n",
    "\n",
    "        p_a = self.model(state) \n",
    "        log_p_a = torch.log(p_a+ 1e-6)\n",
    "        entropy = - torch.sum(p_a * log_p_a, dim=-1, keepdim=True)\n",
    "        log_p_a = log_p_a.gather(1, action)\n",
    "        E_g = -returns*log_p_a\n",
    "        loss = (E_g - self.hparams.entropy_coeff*entropy).mean()\n",
    "        self.log(\"episode/Train Loss\", loss)\n",
    "        return loss\n",
    "    \n",
    "    def on_train_epoch_end(self):\n",
    "        self.log(\"episode/Return\", self.env.return_queue[-1])\n",
    "\n",
    "    def train_dataloader(self):\n",
    "        train_ds = MyDataset(env=self.env, discount_factor=self.hparams.discount_factor, max_step=self.hparams.max_step,policy=self.model.pi,)\n",
    "        train_dl = DataLoader(train_ds, batch_size=self.hparams.batch_size)\n",
    "        return train_dl\n",
    "\n",
    "    def configure_optimizers(self):\n",
    "        optimizer = AdamW(self.model.parameters(), lr=self.lr)\n",
    "        return optimizer"
   ]
  },
  {
   "cell_type": "code",
   "execution_count": 9,
   "metadata": {},
   "outputs": [
    {
     "name": "stderr",
     "output_type": "stream",
     "text": [
      "/home/daniel/anaconda3/envs/dev/lib/python3.11/site-packages/gymnasium/vector/__init__.py:53: UserWarning: \u001b[33mWARN: `gymnasium.vector.make(...)` is deprecated and will be replaced by `gymnasium.make_vec(...)` in v1.0\u001b[0m\n",
      "  gym.logger.warn(\n",
      "/home/daniel/anaconda3/envs/dev/lib/python3.11/site-packages/gymnasium/core.py:311: UserWarning: \u001b[33mWARN: env.single_observation_space to get variables from other wrappers is deprecated and will be removed in v1.0, to get this variable you can do `env.unwrapped.single_observation_space` for environment variables or `env.get_wrapper_attr('single_observation_space')` that will search the reminding wrappers.\u001b[0m\n",
      "  logger.warn(\n"
     ]
    }
   ],
   "source": [
    "reinforce = Reinforce(env_id=ENV_ID, \n",
    "                  lr=LR, \n",
    "                  num_envs=NUM_ENVS, \n",
    "                  discount_factor=DISCOUNT_FACTOR,\n",
    "                  batch_size=BATCH_SIZE, \n",
    "                  max_step=MAX_STEP)"
   ]
  },
  {
   "cell_type": "code",
   "execution_count": 10,
   "metadata": {},
   "outputs": [
    {
     "data": {
      "text/plain": [
       "Reinforce(\n",
       "  (model): Policy(\n",
       "    (input): Linear(in_features=4, out_features=64, bias=True)\n",
       "    (hidden): Linear(in_features=64, out_features=64, bias=True)\n",
       "    (output): Linear(in_features=64, out_features=2, bias=True)\n",
       "  )\n",
       ")"
      ]
     },
     "execution_count": 10,
     "metadata": {},
     "output_type": "execute_result"
    }
   ],
   "source": [
    "reinforce"
   ]
  },
  {
   "cell_type": "code",
   "execution_count": 11,
   "metadata": {},
   "outputs": [
    {
     "name": "stderr",
     "output_type": "stream",
     "text": [
      "GPU available: True (cuda), used: False\n",
      "TPU available: False, using: 0 TPU cores\n",
      "IPU available: False, using: 0 IPUs\n",
      "HPU available: False, using: 0 HPUs\n",
      "/home/daniel/anaconda3/envs/dev/lib/python3.11/site-packages/lightning/pytorch/trainer/setup.py:176: PossibleUserWarning: GPU available but not used. Set `accelerator` and `devices` using `Trainer(accelerator='gpu', devices=2)`.\n",
      "  rank_zero_warn(\n"
     ]
    }
   ],
   "source": [
    "trainer = L.Trainer(\n",
    "    accelerator='cpu',\n",
    "    max_epochs=MAX_EPOCHS,\n",
    "    logger=TensorBoardLogger(save_dir=LOG_DIR)\n",
    ")"
   ]
  },
  {
   "cell_type": "code",
   "execution_count": 12,
   "metadata": {},
   "outputs": [],
   "source": [
    "!rm -r ../tboard/\n",
    "!rm -r ../videos/\n",
    "!mkdir ../tboard/\n",
    "!mkdir ../videos/"
   ]
  },
  {
   "cell_type": "code",
   "execution_count": 13,
   "metadata": {},
   "outputs": [
    {
     "data": {
      "text/plain": [
       "Reusing TensorBoard on port 6006 (pid 935941), started 10:35:35 ago. (Use '!kill 935941' to kill it.)"
      ]
     },
     "metadata": {},
     "output_type": "display_data"
    },
    {
     "data": {
      "text/html": [
       "\n",
       "      <iframe id=\"tensorboard-frame-916597a6255606f9\" width=\"100%\" height=\"800\" frameborder=\"0\">\n",
       "      </iframe>\n",
       "      <script>\n",
       "        (function() {\n",
       "          const frame = document.getElementById(\"tensorboard-frame-916597a6255606f9\");\n",
       "          const url = new URL(\"http://localhost\");\n",
       "          const port = 6006;\n",
       "          if (port) {\n",
       "            url.port = port;\n",
       "          }\n",
       "          frame.src = url;\n",
       "        })();\n",
       "      </script>\n",
       "    "
      ],
      "text/plain": [
       "<IPython.core.display.HTML object>"
      ]
     },
     "metadata": {},
     "output_type": "display_data"
    }
   ],
   "source": [
    "%load_ext tensorboard\n",
    "%tensorboard --logdir ../tboard/"
   ]
  },
  {
   "cell_type": "code",
   "execution_count": 14,
   "metadata": {},
   "outputs": [
    {
     "name": "stderr",
     "output_type": "stream",
     "text": [
      "Missing logger folder: ../tboard/lightning_logs\n",
      "\n",
      "  | Name  | Type   | Params\n",
      "---------------------------------\n",
      "0 | model | Policy | 4.6 K \n",
      "---------------------------------\n",
      "4.6 K     Trainable params\n",
      "0         Non-trainable params\n",
      "4.6 K     Total params\n",
      "0.018     Total estimated model params size (MB)\n",
      "/home/daniel/anaconda3/envs/dev/lib/python3.11/site-packages/lightning/pytorch/trainer/connectors/data_connector.py:430: PossibleUserWarning: The dataloader, train_dataloader, does not have many workers which may be a bottleneck. Consider increasing the value of the `num_workers` argument` (try 48 which is the number of cpus on this machine) in the `DataLoader` init to improve performance.\n",
      "  rank_zero_warn(\n"
     ]
    },
    {
     "data": {
      "application/vnd.jupyter.widget-view+json": {
       "model_id": "ca7eca5af7e2466591fd3bb7bc8ffa74",
       "version_major": 2,
       "version_minor": 0
      },
      "text/plain": [
       "Training: 0it [00:00, ?it/s]"
      ]
     },
     "metadata": {},
     "output_type": "display_data"
    },
    {
     "name": "stderr",
     "output_type": "stream",
     "text": [
      "/home/daniel/anaconda3/envs/dev/lib/python3.11/site-packages/gymnasium/core.py:311: UserWarning: \u001b[33mWARN: env.return_queue to get variables from other wrappers is deprecated and will be removed in v1.0, to get this variable you can do `env.unwrapped.return_queue` for environment variables or `env.get_wrapper_attr('return_queue')` that will search the reminding wrappers.\u001b[0m\n",
      "  logger.warn(\n",
      "`Trainer.fit` stopped: `max_epochs=100` reached.\n"
     ]
    }
   ],
   "source": [
    "trainer.fit(model=reinforce,)"
   ]
  },
  {
   "cell_type": "code",
   "execution_count": 15,
   "metadata": {},
   "outputs": [
    {
     "name": "stderr",
     "output_type": "stream",
     "text": [
      "/home/daniel/anaconda3/envs/dev/lib/python3.11/site-packages/gymnasium/core.py:311: UserWarning: \u001b[33mWARN: env.obs_rms to get variables from other wrappers is deprecated and will be removed in v1.0, to get this variable you can do `env.unwrapped.obs_rms` for environment variables or `env.get_wrapper_attr('obs_rms')` that will search the reminding wrappers.\u001b[0m\n",
      "  logger.warn(\n",
      "/home/daniel/anaconda3/envs/dev/lib/python3.11/site-packages/gymnasium/wrappers/record_video.py:94: UserWarning: \u001b[33mWARN: Overwriting existing videos at /home/daniel/src/advanced_rl_pg_methods_complete/videos folder (try specifying a different `video_folder` for the `RecordVideo` wrapper if this is not desired)\u001b[0m\n",
      "  logger.warn(\n"
     ]
    },
    {
     "name": "stdout",
     "output_type": "stream",
     "text": [
      "Moviepy - Building video /home/daniel/src/advanced_rl_pg_methods_complete/videos/rl-video-episode-0.mp4.\n",
      "Moviepy - Writing video /home/daniel/src/advanced_rl_pg_methods_complete/videos/rl-video-episode-0.mp4\n",
      "\n"
     ]
    },
    {
     "name": "stderr",
     "output_type": "stream",
     "text": [
      "                                                               \r"
     ]
    },
    {
     "name": "stdout",
     "output_type": "stream",
     "text": [
      "Moviepy - Done !\n",
      "Moviepy - video ready /home/daniel/src/advanced_rl_pg_methods_complete/videos/rl-video-episode-0.mp4\n",
      "Moviepy - Building video /home/daniel/src/advanced_rl_pg_methods_complete/videos/rl-video-episode-1.mp4.\n",
      "Moviepy - Writing video /home/daniel/src/advanced_rl_pg_methods_complete/videos/rl-video-episode-1.mp4\n",
      "\n"
     ]
    },
    {
     "name": "stderr",
     "output_type": "stream",
     "text": [
      "                                                               \r"
     ]
    },
    {
     "name": "stdout",
     "output_type": "stream",
     "text": [
      "Moviepy - Done !\n",
      "Moviepy - video ready /home/daniel/src/advanced_rl_pg_methods_complete/videos/rl-video-episode-1.mp4\n",
      "Moviepy - Building video /home/daniel/src/advanced_rl_pg_methods_complete/videos/rl-video-episode-2.mp4.\n",
      "Moviepy - Writing video /home/daniel/src/advanced_rl_pg_methods_complete/videos/rl-video-episode-2.mp4\n",
      "\n"
     ]
    },
    {
     "name": "stderr",
     "output_type": "stream",
     "text": [
      "                                                               \r"
     ]
    },
    {
     "name": "stdout",
     "output_type": "stream",
     "text": [
      "Moviepy - Done !\n",
      "Moviepy - video ready /home/daniel/src/advanced_rl_pg_methods_complete/videos/rl-video-episode-2.mp4\n",
      "Moviepy - Building video /home/daniel/src/advanced_rl_pg_methods_complete/videos/rl-video-episode-3.mp4.\n",
      "Moviepy - Writing video /home/daniel/src/advanced_rl_pg_methods_complete/videos/rl-video-episode-3.mp4\n",
      "\n"
     ]
    },
    {
     "name": "stderr",
     "output_type": "stream",
     "text": [
      "                                                               \r"
     ]
    },
    {
     "name": "stdout",
     "output_type": "stream",
     "text": [
      "Moviepy - Done !\n",
      "Moviepy - video ready /home/daniel/src/advanced_rl_pg_methods_complete/videos/rl-video-episode-3.mp4\n",
      "Moviepy - Building video /home/daniel/src/advanced_rl_pg_methods_complete/videos/rl-video-episode-4.mp4.\n",
      "Moviepy - Writing video /home/daniel/src/advanced_rl_pg_methods_complete/videos/rl-video-episode-4.mp4\n",
      "\n"
     ]
    },
    {
     "name": "stderr",
     "output_type": "stream",
     "text": [
      "                                                               \r"
     ]
    },
    {
     "name": "stdout",
     "output_type": "stream",
     "text": [
      "Moviepy - Done !\n",
      "Moviepy - video ready /home/daniel/src/advanced_rl_pg_methods_complete/videos/rl-video-episode-4.mp4\n",
      "Moviepy - Building video /home/daniel/src/advanced_rl_pg_methods_complete/videos/rl-video-episode-5.mp4.\n",
      "Moviepy - Writing video /home/daniel/src/advanced_rl_pg_methods_complete/videos/rl-video-episode-5.mp4\n",
      "\n"
     ]
    },
    {
     "name": "stderr",
     "output_type": "stream",
     "text": [
      "                                                               \r"
     ]
    },
    {
     "name": "stdout",
     "output_type": "stream",
     "text": [
      "Moviepy - Done !\n",
      "Moviepy - video ready /home/daniel/src/advanced_rl_pg_methods_complete/videos/rl-video-episode-5.mp4\n",
      "Moviepy - Building video /home/daniel/src/advanced_rl_pg_methods_complete/videos/rl-video-episode-6.mp4.\n",
      "Moviepy - Writing video /home/daniel/src/advanced_rl_pg_methods_complete/videos/rl-video-episode-6.mp4\n",
      "\n"
     ]
    },
    {
     "name": "stderr",
     "output_type": "stream",
     "text": [
      "                                                               \r"
     ]
    },
    {
     "name": "stdout",
     "output_type": "stream",
     "text": [
      "Moviepy - Done !\n",
      "Moviepy - video ready /home/daniel/src/advanced_rl_pg_methods_complete/videos/rl-video-episode-6.mp4\n",
      "Moviepy - Building video /home/daniel/src/advanced_rl_pg_methods_complete/videos/rl-video-episode-7.mp4.\n",
      "Moviepy - Writing video /home/daniel/src/advanced_rl_pg_methods_complete/videos/rl-video-episode-7.mp4\n",
      "\n"
     ]
    },
    {
     "name": "stderr",
     "output_type": "stream",
     "text": [
      "                                                               \r"
     ]
    },
    {
     "name": "stdout",
     "output_type": "stream",
     "text": [
      "Moviepy - Done !\n",
      "Moviepy - video ready /home/daniel/src/advanced_rl_pg_methods_complete/videos/rl-video-episode-7.mp4\n",
      "Moviepy - Building video /home/daniel/src/advanced_rl_pg_methods_complete/videos/rl-video-episode-8.mp4.\n",
      "Moviepy - Writing video /home/daniel/src/advanced_rl_pg_methods_complete/videos/rl-video-episode-8.mp4\n",
      "\n"
     ]
    },
    {
     "name": "stderr",
     "output_type": "stream",
     "text": [
      "                                                               \r"
     ]
    },
    {
     "name": "stdout",
     "output_type": "stream",
     "text": [
      "Moviepy - Done !\n",
      "Moviepy - video ready /home/daniel/src/advanced_rl_pg_methods_complete/videos/rl-video-episode-8.mp4\n",
      "Moviepy - Building video /home/daniel/src/advanced_rl_pg_methods_complete/videos/rl-video-episode-9.mp4.\n",
      "Moviepy - Writing video /home/daniel/src/advanced_rl_pg_methods_complete/videos/rl-video-episode-9.mp4\n",
      "\n"
     ]
    },
    {
     "name": "stderr",
     "output_type": "stream",
     "text": [
      "                                                               "
     ]
    },
    {
     "name": "stdout",
     "output_type": "stream",
     "text": [
      "Moviepy - Done !\n",
      "Moviepy - video ready /home/daniel/src/advanced_rl_pg_methods_complete/videos/rl-video-episode-9.mp4\n"
     ]
    },
    {
     "name": "stderr",
     "output_type": "stream",
     "text": [
      "\r"
     ]
    }
   ],
   "source": [
    "test_env(env_name=ENV_ID, policy= reinforce.model.pi, obs_rms=reinforce.env.obs_rms )"
   ]
  },
  {
   "cell_type": "code",
   "execution_count": 17,
   "metadata": {},
   "outputs": [
    {
     "data": {
      "text/html": [
       "<video width=600 controls><source src='data:video/mp4;base64,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'></video>"
      ],
      "text/plain": [
       "<IPython.core.display.HTML object>"
      ]
     },
     "execution_count": 17,
     "metadata": {},
     "output_type": "execute_result"
    }
   ],
   "source": [
    "display_video(episode=0)"
   ]
  },
  {
   "cell_type": "code",
   "execution_count": null,
   "metadata": {},
   "outputs": [],
   "source": []
  }
 ],
 "metadata": {
  "kernelspec": {
   "display_name": "dev",
   "language": "python",
   "name": "dev"
  },
  "language_info": {
   "codemirror_mode": {
    "name": "ipython",
    "version": 3
   },
   "file_extension": ".py",
   "mimetype": "text/x-python",
   "name": "python",
   "nbconvert_exporter": "python",
   "pygments_lexer": "ipython3",
   "version": "3.11.6"
  }
 },
 "nbformat": 4,
 "nbformat_minor": 2
}
